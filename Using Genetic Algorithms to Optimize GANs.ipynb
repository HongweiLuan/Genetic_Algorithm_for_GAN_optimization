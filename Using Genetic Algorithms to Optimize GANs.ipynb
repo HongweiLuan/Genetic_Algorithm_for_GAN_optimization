{
 "cells": [
  {
   "cell_type": "markdown",
   "metadata": {
    "toc": true
   },
   "source": [
    "<h1>Table of Contents<span class=\"tocSkip\"></span></h1>\n",
    "<div class=\"toc\"><ul class=\"toc-item\"><li><span><a href=\"#What-are-genetic-algorithms?\" data-toc-modified-id=\"What-are-genetic-algorithms?-1\"><span class=\"toc-item-num\">1&nbsp;&nbsp;</span>What are genetic algorithms?</a></span></li><li><span><a href=\"#How-do-they-work?\" data-toc-modified-id=\"How-do-they-work?-2\"><span class=\"toc-item-num\">2&nbsp;&nbsp;</span>How do they work?</a></span></li><li><span><a href=\"#Advantages-and-Disadvantages:\" data-toc-modified-id=\"Advantages-and-Disadvantages:-3\"><span class=\"toc-item-num\">3&nbsp;&nbsp;</span>Advantages and Disadvantages:</a></span><ul class=\"toc-item\"><li><span><a href=\"#Advantages:\" data-toc-modified-id=\"Advantages:-3.1\"><span class=\"toc-item-num\">3.1&nbsp;&nbsp;</span>Advantages:</a></span></li><li><span><a href=\"#Disadvantages:\" data-toc-modified-id=\"Disadvantages:-3.2\"><span class=\"toc-item-num\">3.2&nbsp;&nbsp;</span>Disadvantages:</a></span></li></ul></li><li><span><a href=\"#The-code\" data-toc-modified-id=\"The-code-4\"><span class=\"toc-item-num\">4&nbsp;&nbsp;</span>The code</a></span></li></ul></div>"
   ]
  },
  {
   "cell_type": "markdown",
   "metadata": {},
   "source": [
    "In this notebook, I will replicate this [blog](https://towardsdatascience.com/using-genetic-algorithms-to-optimize-gans-c64e5e02ead4) which introduces how we can use genetic algorithms to optimize GANs. "
   ]
  },
  {
   "cell_type": "markdown",
   "metadata": {},
   "source": [
    "## What are genetic algorithms?\n",
    "Genetic Algorithms are a type of learning algorithm, that uses the idea that crossing over the weights of two good neural networks, would result in a better neural network.\n",
    "\n",
    "The reason that genetic algorithms are so effective is because there is no direct optimization algorithm, allowing for the possibility to have extremely varied results. Additionally, they often come up with very interesting solutions that often give valuable insight into the problem.\n",
    "\n",
    "## How do they work?\n",
    "A set of random weights are generated. This is the neural network of the first agent. A set of tests are performed on the agent. The agent receives a score based on the tests. Repeat this several times to create a population. Select the top 10% of the population to be available to crossover. Two random parents are chosen from the top 10% and their weights are crossover. Every time a crossover occurs, there is a small chance of mutation: That is a random value that is in neither of the parent’s weights. This process slowly optimizes the agent’s performance, as the agents slowly adapt to the environment.\n",
    "\n",
    "\n",
    "## Advantages and Disadvantages:\n",
    "### Advantages:\n",
    "* Computationally not intensive\n",
    "There are no linear algebra calculations to be done. The only machine learning calculations necessary are forward passes through the neural networks. Because of this, the system requirements are very broad, as compared to Deep Neural Networks.\n",
    "* Adaptable\n",
    "One could adapt and insert many different tests and ways to manipulate the flexible nature of genetic algorithms. One could create a GAN within a Genetic algorithm, by making the agents propagate Generator networks, and the tests being the discriminators. This is a critical benefit, that persuades me that the use of genetic algorithm will be more widespread in the future.\n",
    "* Understandable\n",
    "For normal neural networks, the learning patterns of the algorithm are enigmatic at best. For genetic algorithms it is easy to understand why some things come about: For example, when a genetic algorithm is given the Tic-Tac-Toe environment, certain recognizable strategies slowly develop. This is a large benefit, as the use of machine learning is to use technology to help us gain insight on important matters.\n",
    "\n",
    "### Disadvantages:\n",
    "\n",
    "* Takes a long period of time\n",
    "Unlucky crossovers and Mutations could result in a negative effect on the program’s accuracy, and therefore make the program slower to converge or reach a certain loss threshold."
   ]
  },
  {
   "cell_type": "markdown",
   "metadata": {},
   "source": [
    "## The code"
   ]
  },
  {
   "cell_type": "code",
   "execution_count": 28,
   "metadata": {
    "ExecuteTime": {
     "end_time": "2020-12-14T21:16:30.676081Z",
     "start_time": "2020-12-14T21:16:30.569566Z"
    }
   },
   "outputs": [
    {
     "name": "stdout",
     "output_type": "stream",
     "text": [
      "WARNING:tensorflow:From /Users/hluan/opt/anaconda3/lib/python3.7/site-packages/tensorflow/python/compat/v2_compat.py:96: disable_resource_variables (from tensorflow.python.ops.variable_scope) is deprecated and will be removed in a future version.\n",
      "Instructions for updating:\n",
      "non-resource variables are not supported in the long term\n"
     ]
    }
   ],
   "source": [
    "import tensorflow.compat.v1 as tf\n",
    "tf.disable_v2_behavior()"
   ]
  },
  {
   "cell_type": "code",
   "execution_count": 29,
   "metadata": {
    "ExecuteTime": {
     "end_time": "2020-12-14T21:16:33.085086Z",
     "start_time": "2020-12-14T21:16:32.843527Z"
    }
   },
   "outputs": [],
   "source": [
    "import random\n",
    "import numpy as np\n",
    "from IPython.display import clear_output\n",
    "from tensorflow.keras.layers import Reshape\n",
    "from tensorflow.keras.layers import Flatten\n",
    "from tensorflow.keras.layers import Conv2D\n",
    "from tensorflow.keras.layers import Conv2DTranspose\n",
    "from tensorflow.keras.layers import LeakyReLU\n",
    "from tensorflow.keras.layers import Dropout,Dense\n",
    "from tensorflow.keras.optimizers import Adam\n",
    "from tensorflow.keras.models import Sequential\n",
    "from tensorflow.keras import activations\n",
    "from tensorflow.keras.datasets.mnist import load_data\n",
    "(trainX, trainy), (testX, testy) = load_data()"
   ]
  },
  {
   "cell_type": "markdown",
   "metadata": {},
   "source": [
    "This is the creation of the class “genetic_algorithm” that holds all the functions that concerns the genetic algorithm and how it is supposed to function. The main function is the execute function, that takes pop_size,generations,threshold,network as parameters. pop_size is the size of the generated population, generations is the term for epochs, threshold is the loss value that you are satisfied with. X and y are for applications of genetic algorithms for labelled data. You can remove all instances of X and y for problems with no data or unlabelled data. Network is the network structure of the neural network.\n"
   ]
  },
  {
   "cell_type": "code",
   "execution_count": 44,
   "metadata": {
    "ExecuteTime": {
     "end_time": "2020-12-14T21:33:27.935537Z",
     "start_time": "2020-12-14T21:33:27.909206Z"
    }
   },
   "outputs": [],
   "source": [
    "class genetic_algorithm:\n",
    "        \n",
    "    def execute(pop_size,generations,threshold,network):\n",
    "        \n",
    "        class Agent:\n",
    "            def __init__(self,network):\n",
    "        \n",
    "                class neural_network:\n",
    "                \n",
    "                    def __init__(self, network):\n",
    "                        self.weights = []\n",
    "                        self.activations = []\n",
    "                        for layer in network:\n",
    "                            if layer[0] != None:\n",
    "                                input_size = layer[0]\n",
    "                            else:\n",
    "                                input_size = network[network.index(layer)-1][1]\n",
    "                            output_size = layer[1]\n",
    "                            activation = layer[2]\n",
    "                            self.weights.append(np.random.randn(input_size,output_size))\n",
    "                            self.activations.append(activation)\n",
    "                            \n",
    "                            \n",
    "                    def propagate(self,data):\n",
    "                        input_data = data\n",
    "                        for i in range(len(self.weights)):\n",
    "                            z = np.dot(input_data,self.weights[i])\n",
    "                            a = self.activations[i](z)\n",
    "                            input_data = a\n",
    "                        yhat = a\n",
    "                        return yhat\n",
    "                    \n",
    "                self.neural_network = neural_network(network)\n",
    "                self.fitness = 0\n",
    "    \n",
    "    \n",
    "        def generate_agents(population, network):\n",
    "            return [Agent(network) for _ in range(population)]\n",
    "\n",
    "\n",
    "        def fitness(agents):\n",
    "            for agent in agents:\n",
    "                dataset_len = 100\n",
    "                fake = []\n",
    "                real = []\n",
    "                y = []\n",
    "                for i in range(dataset_len//2):\n",
    "                    fake.append(agent.neural_network.propagate(np.random.randn(latent_size)).reshape(28,28))\n",
    "                    y.append(0)\n",
    "                    real.append(random.choice(trainX))\n",
    "                    y.append(1)\n",
    "                X = fake+real\n",
    "                X = np.array(X).astype('uint8').reshape(len(X),28,28,1)\n",
    "                y = np.array(y).astype('uint8')\n",
    "                model.fit(X,y,verbose = 0)\n",
    "\n",
    "                fake = []\n",
    "                real = []\n",
    "                y = []\n",
    "                for i in range(dataset_len//2):\n",
    "                    fake.append(agent.neural_network.propagate(np.random.randn(latent_size)).reshape(28,28))\n",
    "                    y.append(0)\n",
    "                    real.append(random.choice(trainX))\n",
    "                    y.append(1)\n",
    "                X = fake+real\n",
    "                X = np.array(X).astype('uint8').reshape(len(X),28,28,1)\n",
    "                y = np.array(y).astype('uint8')\n",
    "                agent.fitness = model.evaluate(X,y,verbose = 0)[1]*100\n",
    "            return agents\n",
    "\n",
    "\n",
    "        def selection(agents):\n",
    "            agents = sorted(agents, key=lambda agent: agent.fitness, reverse=False)\n",
    "            print('\\n'.join(map(str, agents)))\n",
    "            agents = agents[:int(0.2 * len(agents))]\n",
    "            return agents\n",
    "\n",
    "\n",
    "        def unflatten(flattened,shapes):\n",
    "            newarray = []\n",
    "            index = 0\n",
    "            for shape in shapes:\n",
    "                size = np.product(shape)\n",
    "                newarray.append(flattened[index : index + size].reshape(shape))\n",
    "                index += size\n",
    "            return newarray\n",
    "\n",
    "\n",
    "        def crossover(agents,network,pop_size):\n",
    "            offspring = []\n",
    "            for _ in range((pop_size - len(agents)) // 2):\n",
    "                parent1 = random.choice(agents)\n",
    "                parent2 = random.choice(agents)\n",
    "                child1 = Agent(network)\n",
    "                child2 = Agent(network)\n",
    "\n",
    "                shapes = [a.shape for a in parent1.neural_network.weights]\n",
    "\n",
    "                genes1 = np.concatenate([a.flatten() for a in parent1.neural_network.weights])\n",
    "                genes2 = np.concatenate([a.flatten() for a in parent2.neural_network.weights])\n",
    "\n",
    "                split = random.ragendint(0,len(genes1)-1)\n",
    "                child1_genes = np.asrray(genes1[0:split].tolist() + genes2[split:].tolist())\n",
    "                child2_genes = np.array(genes1[0:split].tolist() + genes2[split:].tolist())\n",
    "\n",
    "                child1.neural_network.weights = unflatten(child1_genes,shapes)\n",
    "                child2.neural_network.weights = unflatten(child2_genes,shapes)\n",
    "\n",
    "                offspring.append(child1)\n",
    "                offspring.append(child2)\n",
    "            agents.extend(offspring)\n",
    "            return agents\n",
    "    \n",
    "        for i in range(generations):\n",
    "            print('Generation',str(i),':')\n",
    "            agents = generate_agents(pop_size,network)\n",
    "            agents = fitness(agents)\n",
    "            agents = selection(agents)\n",
    "            agents = crossover(agents,network,pop_size)\n",
    "            agents = mutation(agents)\n",
    "            agents = fitness(agents)\n",
    "            \n",
    "            if any(agent.fitness < threshold for agent in agents):\n",
    "                print('Threshold met at generation '+str(i)+' !')\n",
    "                \n",
    "            if i % 100:\n",
    "                clear_output()\n",
    "                \n",
    "        return agents[0]\n",
    "    "
   ]
  },
  {
   "cell_type": "code",
   "execution_count": 46,
   "metadata": {
    "ExecuteTime": {
     "end_time": "2020-12-14T21:34:36.148180Z",
     "start_time": "2020-12-14T21:34:35.978841Z"
    }
   },
   "outputs": [
    {
     "ename": "TypeError",
     "evalue": "__array__() takes 1 positional argument but 2 were given",
     "output_type": "error",
     "traceback": [
      "\u001b[0;31m---------------------------------------------------------------------------\u001b[0m",
      "\u001b[0;31mTypeError\u001b[0m                                 Traceback (most recent call last)",
      "\u001b[0;32m<ipython-input-46-fe5d55ab73cf>\u001b[0m in \u001b[0;36m<module>\u001b[0;34m\u001b[0m\n\u001b[1;32m     26\u001b[0m         \u001b[0;32mreturn\u001b[0m \u001b[0myhat\u001b[0m\u001b[0;34m\u001b[0m\u001b[0;34m\u001b[0m\u001b[0m\n\u001b[1;32m     27\u001b[0m \u001b[0;34m\u001b[0m\u001b[0m\n\u001b[0;32m---> 28\u001b[0;31m \u001b[0mneural_network\u001b[0m\u001b[0;34m(\u001b[0m\u001b[0mnetwork\u001b[0m \u001b[0;34m=\u001b[0m \u001b[0;34m[\u001b[0m\u001b[0;34m[\u001b[0m\u001b[0mlatent_size\u001b[0m\u001b[0;34m,\u001b[0m\u001b[0;36m100\u001b[0m\u001b[0;34m,\u001b[0m\u001b[0mactivations\u001b[0m\u001b[0;34m.\u001b[0m\u001b[0msigmoid\u001b[0m\u001b[0;34m]\u001b[0m\u001b[0;34m,\u001b[0m\u001b[0;34m[\u001b[0m\u001b[0;32mNone\u001b[0m\u001b[0;34m,\u001b[0m\u001b[0mimage_size\u001b[0m\u001b[0;34m**\u001b[0m\u001b[0;36m2\u001b[0m\u001b[0;34m,\u001b[0m\u001b[0mactivations\u001b[0m\u001b[0;34m.\u001b[0m\u001b[0msigmoid\u001b[0m\u001b[0;34m]\u001b[0m\u001b[0;34m]\u001b[0m\u001b[0;34m)\u001b[0m\u001b[0;34m.\u001b[0m\u001b[0mpropagate\u001b[0m\u001b[0;34m(\u001b[0m\u001b[0mnp\u001b[0m\u001b[0;34m.\u001b[0m\u001b[0mrandom\u001b[0m\u001b[0;34m.\u001b[0m\u001b[0mrandn\u001b[0m\u001b[0;34m(\u001b[0m\u001b[0mlatent_size\u001b[0m\u001b[0;34m)\u001b[0m\u001b[0;34m)\u001b[0m\u001b[0;34m\u001b[0m\u001b[0;34m\u001b[0m\u001b[0m\n\u001b[0m",
      "\u001b[0;32m<ipython-input-46-fe5d55ab73cf>\u001b[0m in \u001b[0;36mpropagate\u001b[0;34m(self, data)\u001b[0m\n\u001b[1;32m     18\u001b[0m         \u001b[0minput_data\u001b[0m \u001b[0;34m=\u001b[0m \u001b[0mdata\u001b[0m\u001b[0;34m\u001b[0m\u001b[0;34m\u001b[0m\u001b[0m\n\u001b[1;32m     19\u001b[0m         \u001b[0;32mfor\u001b[0m \u001b[0mi\u001b[0m \u001b[0;32min\u001b[0m \u001b[0mrange\u001b[0m\u001b[0;34m(\u001b[0m\u001b[0mlen\u001b[0m\u001b[0;34m(\u001b[0m\u001b[0mself\u001b[0m\u001b[0;34m.\u001b[0m\u001b[0mweights\u001b[0m\u001b[0;34m)\u001b[0m\u001b[0;34m)\u001b[0m\u001b[0;34m:\u001b[0m\u001b[0;34m\u001b[0m\u001b[0;34m\u001b[0m\u001b[0m\n\u001b[0;32m---> 20\u001b[0;31m             \u001b[0mz\u001b[0m \u001b[0;34m=\u001b[0m \u001b[0mnp\u001b[0m\u001b[0;34m.\u001b[0m\u001b[0mdot\u001b[0m\u001b[0;34m(\u001b[0m\u001b[0minput_data\u001b[0m\u001b[0;34m,\u001b[0m\u001b[0mself\u001b[0m\u001b[0;34m.\u001b[0m\u001b[0mweights\u001b[0m\u001b[0;34m[\u001b[0m\u001b[0mi\u001b[0m\u001b[0;34m]\u001b[0m\u001b[0;34m)\u001b[0m\u001b[0;34m\u001b[0m\u001b[0;34m\u001b[0m\u001b[0m\n\u001b[0m\u001b[1;32m     21\u001b[0m \u001b[0;31m#             except:\u001b[0m\u001b[0;34m\u001b[0m\u001b[0;34m\u001b[0m\u001b[0;34m\u001b[0m\u001b[0m\n\u001b[1;32m     22\u001b[0m \u001b[0;31m#                 print(i)\u001b[0m\u001b[0;34m\u001b[0m\u001b[0;34m\u001b[0m\u001b[0;34m\u001b[0m\u001b[0m\n",
      "\u001b[0;32m<__array_function__ internals>\u001b[0m in \u001b[0;36mdot\u001b[0;34m(*args, **kwargs)\u001b[0m\n",
      "\u001b[0;31mTypeError\u001b[0m: __array__() takes 1 positional argument but 2 were given"
     ]
    }
   ],
   "source": [
    "class neural_network:\n",
    "                \n",
    "    def __init__(self, network):\n",
    "        self.weights = []\n",
    "        self.activations = []\n",
    "        for layer in network:\n",
    "            if layer[0] != None:\n",
    "                input_size = layer[0]\n",
    "            else:\n",
    "                input_size = network[network.index(layer)-1][1]\n",
    "            output_size = layer[1]\n",
    "            activation = layer[2]\n",
    "            self.weights.append(np.random.randn(input_size,output_size))\n",
    "            self.activations.append(activation)\n",
    "\n",
    "\n",
    "    def propagate(self,data):\n",
    "        input_data = data\n",
    "        for i in range(len(self.weights)):\n",
    "            z = np.dot(input_data,self.weights[i])\n",
    "#             except:\n",
    "#                 print(i)\n",
    "            a = self.activations[i](z)\n",
    "            input_data = a\n",
    "        yhat = a\n",
    "        return yhat\n",
    "    \n",
    "neural_network(network = [[latent_size,100,activations.sigmoid],[None,image_size**2,activations.sigmoid]]).propagate(np.random.randn(latent_size))"
   ]
  },
  {
   "cell_type": "code",
   "execution_count": 41,
   "metadata": {
    "ExecuteTime": {
     "end_time": "2020-12-14T21:31:11.348074Z",
     "start_time": "2020-12-14T21:31:11.340986Z"
    }
   },
   "outputs": [
    {
     "data": {
      "text/plain": [
       "(100, 784)"
      ]
     },
     "execution_count": 41,
     "metadata": {},
     "output_type": "execute_result"
    }
   ],
   "source": [
    "neural_network(network = [[latent_size,100,activations.sigmoid],[None,image_size**2,activations.sigmoid]]).weights[1].shape"
   ]
  },
  {
   "cell_type": "code",
   "execution_count": 39,
   "metadata": {
    "ExecuteTime": {
     "end_time": "2020-12-14T21:29:06.518175Z",
     "start_time": "2020-12-14T21:29:06.514565Z"
    }
   },
   "outputs": [
    {
     "data": {
      "text/plain": [
       "(100,)"
      ]
     },
     "execution_count": 39,
     "metadata": {},
     "output_type": "execute_result"
    }
   ],
   "source": [
    "np.random.randn(latent_size).shape"
   ]
  },
  {
   "cell_type": "code",
   "execution_count": 43,
   "metadata": {
    "ExecuteTime": {
     "end_time": "2020-12-14T21:32:53.713144Z",
     "start_time": "2020-12-14T21:32:53.695729Z"
    }
   },
   "outputs": [
    {
     "data": {
      "text/plain": [
       "array([-1.31084592e+01,  2.63403137e+00,  1.69292533e+01,  1.60814475e+01,\n",
       "        1.19868410e+01,  1.23292208e+00, -5.70364267e+00, -1.62291902e+01,\n",
       "        2.79754442e+00, -7.96937174e+00,  3.36133717e+00,  1.30794773e+01,\n",
       "        4.04728532e+00,  1.78850040e+01,  1.67491794e+01, -2.73231009e+00,\n",
       "       -1.48459705e+01,  7.96307063e+00, -1.50867852e+01,  2.67533523e+01,\n",
       "       -1.26561865e+00, -4.29084697e+00,  1.97982063e+00,  1.59898481e+01,\n",
       "       -1.25639306e+01, -3.13961237e-01, -1.20765571e+01,  1.01416210e+01,\n",
       "        1.62303472e+01, -9.78097487e-01, -2.02706877e+01,  7.52063255e+00,\n",
       "       -1.06289190e+01,  1.22699532e+01, -6.14996243e+00,  1.57685463e-01,\n",
       "        1.00690645e+01,  5.90016620e-01,  3.63770655e+00,  1.19576474e+01,\n",
       "        6.01145084e+00,  1.42541867e+01,  9.45022830e+00, -1.08026210e+01,\n",
       "        5.38005881e+00, -3.04327273e+00,  2.79951274e+00,  8.39178338e+00,\n",
       "        2.58005067e+00, -3.91767835e+00, -2.51914050e+00,  3.89271309e+00,\n",
       "        4.50134609e+00, -7.25796639e+00, -1.74718906e+00,  1.01645319e+01,\n",
       "        1.85662307e+01, -7.66889131e+00,  1.56057018e+01, -5.41791255e+00,\n",
       "       -6.16158655e+00, -1.98766452e+01, -9.42354239e+00,  1.46999793e+00,\n",
       "       -1.28880395e+01,  7.59207883e+00,  3.58051750e+00, -1.10076096e+01,\n",
       "        9.99341939e+00, -6.02018773e+00, -1.84791286e+00,  9.27034703e+00,\n",
       "        4.62460795e+00,  5.04091613e+00, -3.29201074e+00,  1.88041439e+01,\n",
       "       -9.73300775e-01,  6.40350753e+00,  1.50202661e+01,  8.37358923e+00,\n",
       "        1.40710747e+01, -2.46315893e+01, -5.60571044e+00, -6.06280754e+00,\n",
       "        1.09080408e+00,  1.92900572e+00,  1.58751629e+01, -4.97857313e+00,\n",
       "       -1.88371812e+00, -1.25280977e+01,  8.42498446e+00, -1.71919099e+01,\n",
       "        2.92496879e+01,  1.20866868e+01,  6.56628959e+00,  1.05275850e+01,\n",
       "       -9.42985283e+00,  9.41989200e+00,  6.24037055e+00,  9.45116364e+00,\n",
       "       -6.10422102e+00, -2.50878776e+00, -1.03624404e+01,  4.58268390e+00,\n",
       "        1.00652029e+01,  1.56605793e+01,  3.55620416e-01,  6.63751197e+00,\n",
       "        6.16404127e+00,  1.57336237e+00, -7.79052181e+00, -4.65067371e+00,\n",
       "        6.85281312e+00,  1.48974209e+01, -1.02826572e+01,  4.35360631e+00,\n",
       "       -8.39944938e+00,  2.04993463e+00, -4.45166738e-01,  9.76324310e+00,\n",
       "        3.71774445e+00,  3.69709622e+00,  5.18718884e-01, -1.62312389e+01,\n",
       "        5.76657606e-01,  1.33045578e+01, -1.60474002e+01, -8.10527150e+00,\n",
       "       -7.17755606e+00, -2.14779690e+00, -1.30546414e+01, -3.31119352e+00,\n",
       "       -3.64080890e-01, -5.45367013e+00, -2.18809663e+00, -1.20133834e+01,\n",
       "        1.54870929e+01,  8.91457271e+00,  6.02856418e+00,  1.58709795e+00,\n",
       "        1.84455448e+01,  3.65341028e+00, -6.83736526e+00,  1.00381804e+00,\n",
       "       -2.69807373e+00,  3.10312452e-01,  9.22591808e+00, -2.04736394e+01,\n",
       "        9.44974110e+00, -4.97600171e+00,  1.72076046e+00, -2.10950846e+00,\n",
       "       -2.42279832e+00,  4.39350033e+00, -1.72093499e+00, -3.73879205e+01,\n",
       "       -1.33647473e+01, -1.44829388e+01, -1.08210602e+01,  2.20291159e+00,\n",
       "        1.09376700e+01, -3.03364813e+01, -5.36725393e+00, -1.90720591e+01,\n",
       "        3.19621292e+00,  4.61839122e-01,  7.79554698e+00, -6.03866646e+00,\n",
       "       -1.17767735e+00, -9.37658419e+00, -1.20198307e+01, -9.23588979e+00,\n",
       "       -3.49898006e+00,  8.98546722e-01,  9.98438724e+00,  1.52572043e+01,\n",
       "        4.02798713e+00,  1.18596147e+01,  5.74241807e+00,  3.09147354e+01,\n",
       "       -9.82300226e+00,  6.45140257e+00, -1.24407558e+01, -1.75591859e+01,\n",
       "       -2.76691730e+00,  6.04947441e+00, -3.82478010e+00,  1.28102711e+01,\n",
       "        7.75272494e+00,  3.75740316e-01, -9.34339925e+00, -2.84598820e+01,\n",
       "        8.65861521e+00, -1.22633347e+01,  5.76465377e-01, -6.82121764e-01,\n",
       "       -1.35733328e+01,  8.52759457e+00,  7.96124361e+00, -4.79278581e+00,\n",
       "        2.92253148e+01, -1.86930148e+01, -1.77980777e-01,  1.01895092e+00,\n",
       "       -1.59236006e+01,  7.15996765e+00, -3.10232028e+00, -6.10572186e-01,\n",
       "        4.38060741e+00, -3.58232673e+00,  8.92486013e+00,  7.90515814e+00,\n",
       "        1.00076443e+01,  2.42096599e+01, -2.16918945e+00,  3.02783750e+00,\n",
       "        1.26608991e+01, -2.89496530e+01,  1.85239324e+01,  1.77394956e+01,\n",
       "        2.02209782e+01, -1.77131324e+01, -3.44488216e+00,  2.50895812e+00,\n",
       "        3.10054783e+00, -3.19643073e-01, -5.50287680e+00,  1.61763141e+01,\n",
       "        7.72399486e-02, -1.84472258e+01, -8.60426041e+00,  5.53497926e+00,\n",
       "       -3.14720825e+00,  5.63715247e+00,  1.72050750e+01,  1.63213989e+01,\n",
       "       -1.00579112e+01,  1.81452353e+00, -3.66888089e+00,  1.26363582e+01,\n",
       "       -1.51684473e+00,  1.20510709e+01,  2.76263355e+00,  6.55894884e+00,\n",
       "        1.11405842e+01, -6.92082034e+00,  1.08740865e+01, -2.23237594e-01,\n",
       "        1.66190349e+00, -6.62590210e+00,  4.72802795e+00, -1.57106509e+01,\n",
       "       -1.28060442e+01, -1.89483428e+00,  4.25410996e+00, -6.98131269e+00,\n",
       "       -1.71116342e+01,  4.05579863e+00,  5.23557046e+00, -6.04833248e-01,\n",
       "       -4.67792408e+00,  5.90457411e+00,  1.07941287e+01,  8.02371471e+00,\n",
       "       -3.72299394e+00,  1.86692400e+01,  5.63171536e-01, -1.82522665e+01,\n",
       "        1.00495474e+01,  9.24532890e-01,  6.54697717e+00,  6.17064131e+00,\n",
       "       -3.87727985e+00, -9.10085121e+00,  2.12317540e+00,  1.53982255e+01,\n",
       "        1.83848197e+01,  6.73470778e+00,  7.05000643e-01,  7.24289820e+00,\n",
       "        1.05896057e+01,  1.17843330e+01, -4.46828639e-01, -4.16166802e+00,\n",
       "       -8.10845730e+00, -1.10102991e+01, -6.67653649e+00, -4.95770098e+00,\n",
       "        2.91986552e+01,  4.86405703e+00, -2.09270940e+00, -1.57813902e-01,\n",
       "       -3.62015765e+00, -1.68261024e+00, -1.13514262e+01,  1.70904478e-01,\n",
       "        7.62140156e+00,  2.10952431e+00,  1.18657142e+01,  9.07758159e+00,\n",
       "        2.66685984e+00,  1.36294828e+01, -1.50368379e+01, -6.23036925e+00,\n",
       "        1.39413134e+01, -1.72427617e+01, -3.93019645e+00, -7.05308087e+00,\n",
       "        7.75860087e+00,  1.71542029e+01,  5.89190355e+00,  1.39291841e+01,\n",
       "       -4.31230810e-02, -1.09300189e+00,  5.88198833e+00,  1.51814289e+01,\n",
       "       -1.01574027e+01, -4.01920411e+00,  6.06540001e-01, -8.16411742e+00,\n",
       "        3.74477294e+00, -7.49452286e+00, -4.93552846e+00,  4.61569669e+00,\n",
       "       -6.71186145e+00,  8.57898685e+00, -1.14000513e+01, -1.76875424e+00,\n",
       "        5.89759295e+00, -8.79487272e-01, -2.26477216e+00,  6.25008886e-01,\n",
       "        1.22410268e+01, -2.14283172e+01,  8.36106011e-01, -8.29518839e+00,\n",
       "       -2.81717043e+01,  1.03596634e+01,  9.29921925e+00,  4.29047547e+00,\n",
       "       -8.80137006e+00, -1.15871628e+00,  6.97145039e-01,  2.14653723e+00,\n",
       "       -8.63863433e+00,  1.34556341e+00,  1.96143251e+01,  4.13266017e-01,\n",
       "       -2.64062682e+00,  1.34376189e+01,  2.18103416e+00, -1.17141520e+00,\n",
       "       -2.54153740e+00,  1.72368288e+01,  1.12043207e+01, -3.30908330e-01,\n",
       "       -4.37295999e+00, -1.23805664e+00,  7.74286023e+00,  2.56678561e+01,\n",
       "        1.20260064e+01,  7.20902624e+00,  4.72199970e+00, -7.23787229e+00,\n",
       "        1.40263081e+01,  2.12209370e+01, -1.05607347e+01, -1.33118374e+01,\n",
       "        2.58830173e-01,  5.74436219e+00,  6.03644806e-01,  5.14202455e+00,\n",
       "        1.51752049e+01,  1.55224973e+01,  1.39446006e+01, -1.20021674e+00,\n",
       "        8.21368086e+00,  1.57905358e+01,  1.01308584e+00,  1.97544164e+01,\n",
       "        6.48092599e+00,  2.35945895e+00,  8.96890496e+00,  1.23714082e+01,\n",
       "        1.58966003e+01, -2.07899056e+00,  3.37324759e+00, -2.98901991e+00,\n",
       "        8.19498717e+00, -2.04789497e+01, -8.20802220e+00, -1.86135229e+01,\n",
       "       -3.28263900e+00, -8.91997493e+00, -6.41559990e+00,  1.81379682e+01,\n",
       "       -2.47775361e+00,  2.39001354e+01,  1.26384350e+01, -3.28144274e+00,\n",
       "        1.62643523e+01,  5.25763921e+00, -1.54677629e+01, -9.41185651e+00,\n",
       "        1.49279085e+01, -6.40096816e+00,  3.16463510e+00, -8.58470620e+00,\n",
       "       -9.46862033e+00,  3.61965075e+00,  8.06818973e+00,  1.86405471e+00,\n",
       "       -5.33570168e-01,  1.36201798e+00,  7.02986376e+00, -8.98258538e+00,\n",
       "       -3.20599764e+00,  3.26430390e-02, -8.89492734e+00, -9.02513685e+00,\n",
       "       -9.65139689e+00,  1.68418833e+00, -3.07790432e+00,  2.99662530e+00,\n",
       "        8.05554491e+00, -3.94494755e-01, -5.57426274e+00,  1.22221412e+01,\n",
       "       -8.32050438e+00, -4.64466700e+00,  1.19789236e+01, -3.73421439e-01,\n",
       "       -1.86223699e+01, -4.21929223e+00,  7.73448397e+00,  2.31175023e-01,\n",
       "        7.05133630e+00, -7.27247447e+00,  1.05265233e+01,  4.62123940e+00,\n",
       "        7.53854189e+00, -3.44194614e+00,  7.34840419e+00,  6.29130613e+00,\n",
       "        5.21599652e+00,  1.55618406e+00, -8.91532622e+00, -7.11457354e+00,\n",
       "       -4.39071058e+00,  1.14521255e+01,  7.87368783e+00, -8.49545310e+00,\n",
       "        7.05489999e+00, -1.12767303e+01, -8.76871396e+00,  4.53497496e+00,\n",
       "        1.13839008e+01,  1.91583127e+01, -4.13412326e-01, -1.13803886e+01,\n",
       "        2.69764959e+00, -2.82999083e+00,  1.48510782e+01,  2.52898093e+00,\n",
       "        8.33802747e+00, -1.22589884e+01, -3.59565220e+00, -1.47763346e+01,\n",
       "       -2.40248312e+01, -4.69371007e+00, -8.31054711e+00,  4.19982205e-01,\n",
       "       -8.37153655e+00,  8.71194023e+00,  1.36965859e+01,  2.23884250e+00,\n",
       "        1.45015527e+01,  1.27896447e+01,  1.29299599e+00,  1.43840053e+00,\n",
       "       -1.69264027e+01, -1.09668501e+01, -7.05370266e+00,  1.52579674e+00,\n",
       "        8.70241275e+00, -8.68131615e+00, -1.60196191e+01,  1.01102832e+01,\n",
       "       -1.27491143e+01,  6.29302330e+00,  7.05302160e+00,  6.56814545e+00,\n",
       "       -9.59186744e+00,  1.89112574e+01, -1.42411048e+01,  1.37047068e+00,\n",
       "       -7.47918782e+00, -1.24007062e+00,  1.91679980e+01, -1.22167862e+01,\n",
       "       -8.03268774e+00,  7.49974144e+00,  3.05617185e+00, -4.58402915e+00,\n",
       "       -9.79037364e+00, -3.19080283e+00,  1.47379127e+01, -2.16606559e+00,\n",
       "       -8.61233005e+00, -2.10621618e+01,  1.64598419e+01, -8.71860604e+00,\n",
       "        2.16553277e+00,  7.98423455e+00, -6.93896082e+00,  1.61802562e+01,\n",
       "       -4.63392953e+00, -1.75143972e+00,  1.51268856e+01, -6.01781228e+00,\n",
       "       -1.53830857e+01, -2.94006768e+01,  3.52355648e+00, -6.20131594e+00,\n",
       "        5.22536417e+00, -7.47479927e+00,  7.81973275e+00,  6.82853965e+00,\n",
       "        5.87690245e+00,  1.62217567e+01, -1.84808957e+00, -7.05534064e+00,\n",
       "       -2.24773506e+00, -6.86260248e+00, -4.69810756e+00,  8.72883894e-02,\n",
       "       -5.70062775e+00, -1.49497828e+01,  1.67824630e+00, -1.02603987e+01,\n",
       "        8.24437167e+00,  1.90534307e+01, -5.61542446e+00, -7.20480488e+00,\n",
       "       -1.18173178e+01,  4.57134234e+00, -3.95636791e+00, -3.03270848e+00,\n",
       "        7.27541368e-01, -4.56715277e+00,  1.38609165e+01, -9.33420782e+00,\n",
       "        1.82950081e+01,  1.56692646e+00,  8.73282981e-01, -7.46891618e+00,\n",
       "        9.24373687e+00, -6.41799787e+00, -4.00512085e+00, -1.61317260e+01,\n",
       "        6.96184943e+00, -9.47970565e+00, -1.37185350e+01, -5.49244703e+00,\n",
       "       -2.43967653e+00, -7.16286027e+00,  1.66545274e+01,  2.41627198e+00,\n",
       "        2.49099431e+01,  1.69454922e+00,  7.47406742e+00, -7.71309694e+00,\n",
       "       -1.97028838e+01,  1.98518651e+00,  1.54534286e+01,  4.70236512e+00,\n",
       "        1.97405362e+00, -2.01771134e+01, -7.06264501e+00, -8.90193333e+00,\n",
       "        6.11316448e+00,  1.02113609e+01,  3.49677633e+00, -4.01828903e+00,\n",
       "       -1.59647503e+01, -5.02910469e+00,  1.08901079e+01, -6.48001413e-01,\n",
       "        3.61036712e+00,  1.06419997e+00, -4.56510314e-01, -2.44091961e+01,\n",
       "        6.53488770e+00, -6.37981691e+00, -1.10251322e+00,  1.00137071e+01,\n",
       "       -5.48862176e-01,  1.56721895e+00, -2.93569996e+01, -6.85967630e+00,\n",
       "       -4.15820323e+00,  6.99238233e+00, -1.31481373e+00, -8.29900789e+00,\n",
       "        1.47491088e+01,  2.07148549e+00, -2.35050921e+00,  6.37459923e+00,\n",
       "        2.18906268e+00,  1.22907061e+01,  2.68724367e+00,  1.09219832e+00,\n",
       "       -1.28402317e+01, -1.29920049e+01, -7.07771471e+00,  2.76510487e+01,\n",
       "        1.25949941e+01, -2.65607863e+00, -1.93732017e+00,  9.61908162e+00,\n",
       "       -2.98507297e+00,  2.78833028e+00,  1.08246307e-01,  8.22885673e+00,\n",
       "        5.19888075e+00,  5.27354016e+00, -7.18449031e+00,  5.18791313e-01,\n",
       "       -8.73754100e+00,  6.44792642e+00,  4.09346430e+00, -1.65328017e+00,\n",
       "        8.76777378e+00, -1.72702942e+01, -6.90992483e+00, -1.63883767e+01,\n",
       "       -9.44963711e-01, -1.09011010e+00, -7.90413625e+00,  2.61502092e+00,\n",
       "       -5.53661547e+00,  3.12545604e+01,  1.53125457e+01, -5.83515576e+00,\n",
       "        1.42951532e+01,  3.45541386e+00,  2.64320744e+00, -1.96736110e+00,\n",
       "        1.83728804e+00, -4.87705161e+00,  1.05911268e+01, -2.16917031e+00,\n",
       "        1.79031687e+00,  8.70386240e-01, -1.58084275e+01, -1.16067071e+01,\n",
       "        1.11479559e-01,  3.49199091e+00,  3.67657123e+00, -7.91364894e-01,\n",
       "       -4.18307675e+00,  1.11554992e+00,  1.30892455e+01,  1.15886969e+01,\n",
       "       -4.94142759e+00,  8.44532170e+00, -8.34983485e+00, -3.61086939e+00,\n",
       "        8.09746280e+00, -9.72206457e+00, -1.64407971e-01, -1.11789427e+01,\n",
       "       -6.46914328e+00, -1.09454017e+01,  1.12687802e+01,  8.45541040e+00,\n",
       "        4.76620975e+00,  2.63795450e+01, -9.87271445e+00, -2.16940063e+01,\n",
       "       -1.40720335e+01,  3.63281302e-01,  6.56259478e+00,  4.60109142e+00,\n",
       "       -5.24709470e+00, -9.34643875e+00,  1.61643869e+00, -3.84331135e+00,\n",
       "        1.53264709e+01,  3.05473045e+00, -2.54026062e+00,  1.27392083e-01,\n",
       "       -4.95565058e-01,  1.13228440e+01,  6.17567047e+00,  3.26940370e-01,\n",
       "       -9.01744768e+00,  8.26954623e+00, -4.42778255e+00,  1.08993063e+01,\n",
       "       -1.51016617e+01, -1.54690264e+00, -4.72762747e+00,  3.54422499e+00,\n",
       "        1.05801952e+01, -8.07245194e+00, -3.51467261e+00, -4.19790303e-01,\n",
       "       -1.20242626e+01,  7.96952549e+00, -1.53692815e+01, -2.60473217e+00,\n",
       "        1.66285489e+01, -1.39553944e+01,  1.24515689e+01,  6.64327292e+00,\n",
       "       -9.33546355e+00,  1.77228076e+01,  2.09443542e+00, -3.94425534e-01,\n",
       "       -8.65092807e-01, -7.92184635e+00, -2.52321516e+00,  8.42041719e+00,\n",
       "       -6.59910371e+00,  3.66330181e+00,  5.99310356e+00, -8.75586100e+00,\n",
       "       -1.85625426e+01, -6.16370152e+00, -1.56641083e+00, -1.10218366e+00,\n",
       "        1.33885754e+01,  1.29610113e+01, -2.47550300e+01, -1.39451323e+00,\n",
       "       -1.17321287e+01, -5.35725059e+00, -9.19075445e-01, -4.43992561e+00,\n",
       "        5.00064747e+00,  1.34215270e+01,  3.83440134e+00,  2.02399929e+01,\n",
       "       -6.38592971e+00, -1.71340502e+00, -6.73431335e+00, -4.51812840e+00,\n",
       "       -3.75473582e+00, -8.33778122e+00,  4.23636882e+00,  1.36544666e+01,\n",
       "       -8.06776386e-01,  6.00780168e+00,  3.47720155e+00, -5.04618316e+00,\n",
       "        7.09081119e+00, -2.62063393e+00,  1.24810129e+01, -5.21678156e+00,\n",
       "        2.66790819e-02, -1.36701828e+01,  2.84282614e+00,  1.85373251e+01,\n",
       "        1.02430521e+01, -1.05350233e+01,  1.61172543e+00, -1.23908899e+01,\n",
       "       -8.23279794e-01, -1.17748578e+01, -1.20659300e+01,  2.55807638e+00,\n",
       "        1.51751241e+01, -1.29548393e+01, -1.01270969e+01,  1.75289597e+00,\n",
       "       -1.03640353e+00, -4.82048690e+00, -3.75637959e+00,  2.39328736e+00,\n",
       "       -6.08091188e+00,  5.53414504e+00,  3.45642494e+00,  9.49767887e-01])"
      ]
     },
     "execution_count": 43,
     "metadata": {},
     "output_type": "execute_result"
    }
   ],
   "source": [
    "np.dot(np.random.randn(latent_size), neural_network([[latent_size,100,activations.sigmoid],[None,image_size**2,activations.sigmoid]]).weights[1])"
   ]
  },
  {
   "cell_type": "markdown",
   "metadata": {
    "ExecuteTime": {
     "end_time": "2020-12-14T20:42:42.678384Z",
     "start_time": "2020-12-14T20:42:42.673207Z"
    }
   },
   "source": [
    "This function creates the first population of agents that will be tested."
   ]
  },
  {
   "cell_type": "code",
   "execution_count": 6,
   "metadata": {
    "ExecuteTime": {
     "end_time": "2020-12-14T20:41:19.889419Z",
     "start_time": "2020-12-14T20:41:19.886866Z"
    }
   },
   "outputs": [],
   "source": [
    "def generate_agents(population, network):\n",
    "    return [Agent(network) for _ in range(population)]"
   ]
  },
  {
   "cell_type": "markdown",
   "metadata": {},
   "source": [
    "The fitness function is the unique part of this genetic algorithm:\n",
    "A discriminator-type neural network will be defined later. This model will be trained based on the MNIST dataset loaded earlier. The model is in the form of a convolutional network to return binary results back."
   ]
  },
  {
   "cell_type": "code",
   "execution_count": null,
   "metadata": {},
   "outputs": [],
   "source": [
    "def fitness(agents):\n",
    "    for agent in agents:\n",
    "        dataset_len = 100\n",
    "        fake = []\n",
    "        real = []\n",
    "        y = []\n",
    "        for i in range(dataset_len//2):\n",
    "            fake.append(agent.neural_network.propagate(np.random.randn(latent_size)).reshape(28,28))\n",
    "            y.append(0)\n",
    "            real.append(random.choice(trainX))\n",
    "            y.append(1)\n",
    "        X = fake+real\n",
    "        X = np.array(X).astype('uint8').reshape(len(X),28,28,1)\n",
    "        y = np.array(y).astype('uint8')\n",
    "        model.fit(X,y,verbose = 0)\n",
    "\n",
    "        fake = []\n",
    "        real = []\n",
    "        y = []\n",
    "        for i in range(dataset_len//2):\n",
    "            fake.append(agent.neural_network.propagate(np.random.randn(latent_size)).reshape(28,28))\n",
    "            y.append(0)\n",
    "            real.append(random.choice(trainX))\n",
    "            y.append(1)\n",
    "        X = fake+real\n",
    "        X = np.array(X).astype('uint8').reshape(len(X),28,28,1)\n",
    "        y = np.array(y).astype('uint8')\n",
    "        agent.fitness = model.evaluate(X,y,verbose = 0)[1]*100\n",
    "    return agents"
   ]
  },
  {
   "cell_type": "markdown",
   "metadata": {},
   "source": [
    "This function mimics the theory of selection in evolution: The best survive while the others are left to die. In this case, their data is forgotten and is not used again."
   ]
  },
  {
   "cell_type": "code",
   "execution_count": 8,
   "metadata": {
    "ExecuteTime": {
     "end_time": "2020-12-14T20:49:53.685184Z",
     "start_time": "2020-12-14T20:49:53.681546Z"
    }
   },
   "outputs": [],
   "source": [
    "def selection(agents):\n",
    "    agents = sorted(agents, key=lambda agent: agent.fitness, reverse=False)\n",
    "    print('\\n'.join(map(str, agents)))\n",
    "    agents = agents[:int(0.2 * len(agents))]\n",
    "    return agents"
   ]
  },
  {
   "cell_type": "markdown",
   "metadata": {},
   "source": [
    "To execute the crossover and mutation functions, the weights need to be flattened and unflattened into the original shapes."
   ]
  },
  {
   "cell_type": "code",
   "execution_count": 9,
   "metadata": {
    "ExecuteTime": {
     "end_time": "2020-12-14T20:50:02.897735Z",
     "start_time": "2020-12-14T20:50:02.894197Z"
    }
   },
   "outputs": [],
   "source": [
    "def unflatten(flattened,shapes):\n",
    "    newarray = []\n",
    "    index = 0\n",
    "    for shape in shapes:\n",
    "        size = np.product(shape)\n",
    "        newarray.append(flattened[index : index + size].reshape(shape))\n",
    "        index += size\n",
    "    return newarray"
   ]
  },
  {
   "cell_type": "markdown",
   "metadata": {},
   "source": [
    "The crossover function is one of the most complicated functions in the program. It generates two new “children” agents, whose weights that are replaced as a crossover of wo randomly generated parents. This is the process of creating the weights:\n",
    "* Flatten the weights of the parents\n",
    "* Generate two splitting points\n",
    "* Use the splitting points as indices to set the weights of the two children agents"
   ]
  },
  {
   "cell_type": "code",
   "execution_count": 11,
   "metadata": {
    "ExecuteTime": {
     "end_time": "2020-12-14T20:50:49.512158Z",
     "start_time": "2020-12-14T20:50:49.503805Z"
    }
   },
   "outputs": [],
   "source": [
    "def crossover(agents,network,pop_size):\n",
    "    offspring = []\n",
    "    for _ in range((pop_size - len(agents)) // 2):\n",
    "        parent1 = random.choice(agents)\n",
    "        parent2 = random.choice(agents)\n",
    "        child1 = Agent(network)\n",
    "        child2 = Agent(network)\n",
    "\n",
    "        shapes = [a.shape for a in parent1.neural_network.weights]\n",
    "\n",
    "        genes1 = np.concatenate([a.flatten() for a in parent1.neural_network.weights])\n",
    "        genes2 = np.concatenate([a.flatten() for a in parent2.neural_network.weights])\n",
    "\n",
    "        split = random.ragendint(0,len(genes1)-1)\n",
    "        child1_genes = np.asrray(genes1[0:split].tolist() + genes2[split:].tolist())\n",
    "        child2_genes = np.array(genes1[0:split].tolist() + genes2[split:].tolist())\n",
    "\n",
    "        child1.neural_network.weights = unflatten(child1_genes,shapes)\n",
    "        child2.neural_network.weights = unflatten(child2_genes,shapes)\n",
    "\n",
    "        offspring.append(child1)\n",
    "        offspring.append(child2)\n",
    "    agents.extend(offspring)\n",
    "    return agents"
   ]
  },
  {
   "cell_type": "markdown",
   "metadata": {},
   "source": [
    "This is the mutation function. The flattening is the same as the crossover function. Instead of splitting the points, a random point is chosen, to be replaced with a random value."
   ]
  },
  {
   "cell_type": "code",
   "execution_count": 14,
   "metadata": {
    "ExecuteTime": {
     "end_time": "2020-12-14T20:52:00.656320Z",
     "start_time": "2020-12-14T20:52:00.650606Z"
    }
   },
   "outputs": [],
   "source": [
    "def mutation(agents):\n",
    "    for agent in agents:\n",
    "        if random.uniform(0.0, 1.0) <= 0.1:\n",
    "            weights = agent.neural_network.weights\n",
    "            shapes = [a.shape for a in weights]\n",
    "            flattened = np.concatenate([a.flatten() for a in weights])\n",
    "            randint = random.randint(0,len(flattened)-1)\n",
    "            flattened[randint] = np.random.randn()\n",
    "            newarray = [a ]\n",
    "            indeweights = 0\n",
    "            for shape in shapes:\n",
    "                size = np.product(shape)\n",
    "                newarray.append(flattened[indeweights : indeweights + size].reshape(shape))\n",
    "                indeweights += size\n",
    "            agent.neural_network.weights = newarray\n",
    "    return agents"
   ]
  },
  {
   "cell_type": "code",
   "execution_count": 45,
   "metadata": {
    "ExecuteTime": {
     "end_time": "2020-12-14T21:33:34.442356Z",
     "start_time": "2020-12-14T21:33:31.930722Z"
    }
   },
   "outputs": [
    {
     "name": "stdout",
     "output_type": "stream",
     "text": [
      "Generation 0 :\n"
     ]
    },
    {
     "ename": "TypeError",
     "evalue": "__array__() takes 1 positional argument but 2 were given",
     "output_type": "error",
     "traceback": [
      "\u001b[0;31m---------------------------------------------------------------------------\u001b[0m",
      "\u001b[0;31mTypeError\u001b[0m                                 Traceback (most recent call last)",
      "\u001b[0;32m<ipython-input-45-1bbed556f424>\u001b[0m in \u001b[0;36m<module>\u001b[0;34m\u001b[0m\n\u001b[1;32m     14\u001b[0m \u001b[0mnetwork\u001b[0m \u001b[0;34m=\u001b[0m \u001b[0;34m[\u001b[0m\u001b[0;34m[\u001b[0m\u001b[0mlatent_size\u001b[0m\u001b[0;34m,\u001b[0m\u001b[0;36m100\u001b[0m\u001b[0;34m,\u001b[0m\u001b[0mactivations\u001b[0m\u001b[0;34m.\u001b[0m\u001b[0msigmoid\u001b[0m\u001b[0;34m]\u001b[0m\u001b[0;34m,\u001b[0m\u001b[0;34m[\u001b[0m\u001b[0;32mNone\u001b[0m\u001b[0;34m,\u001b[0m\u001b[0mimage_size\u001b[0m\u001b[0;34m**\u001b[0m\u001b[0;36m2\u001b[0m\u001b[0;34m,\u001b[0m\u001b[0mactivations\u001b[0m\u001b[0;34m.\u001b[0m\u001b[0msigmoid\u001b[0m\u001b[0;34m]\u001b[0m\u001b[0;34m]\u001b[0m\u001b[0;34m\u001b[0m\u001b[0;34m\u001b[0m\u001b[0m\n\u001b[1;32m     15\u001b[0m \u001b[0mga\u001b[0m \u001b[0;34m=\u001b[0m \u001b[0mgenetic_algorithm\u001b[0m\u001b[0;34m\u001b[0m\u001b[0;34m\u001b[0m\u001b[0m\n\u001b[0;32m---> 16\u001b[0;31m \u001b[0magent\u001b[0m \u001b[0;34m=\u001b[0m \u001b[0mga\u001b[0m\u001b[0;34m.\u001b[0m\u001b[0mexecute\u001b[0m\u001b[0;34m(\u001b[0m\u001b[0;36m1000\u001b[0m\u001b[0;34m,\u001b[0m\u001b[0;36m1000\u001b[0m\u001b[0;34m,\u001b[0m\u001b[0;36m90\u001b[0m\u001b[0;34m,\u001b[0m\u001b[0mnetwork\u001b[0m\u001b[0;34m)\u001b[0m\u001b[0;34m\u001b[0m\u001b[0;34m\u001b[0m\u001b[0m\n\u001b[0m\u001b[1;32m     17\u001b[0m \u001b[0;34m(\u001b[0m\u001b[0mtrainX\u001b[0m\u001b[0;34m,\u001b[0m \u001b[0mtrainy\u001b[0m\u001b[0;34m)\u001b[0m\u001b[0;34m,\u001b[0m \u001b[0;34m(\u001b[0m\u001b[0mtestX\u001b[0m\u001b[0;34m,\u001b[0m \u001b[0mtesty\u001b[0m\u001b[0;34m)\u001b[0m \u001b[0;34m=\u001b[0m \u001b[0mload_data\u001b[0m\u001b[0;34m(\u001b[0m\u001b[0;34m)\u001b[0m\u001b[0;34m\u001b[0m\u001b[0;34m\u001b[0m\u001b[0m\n\u001b[1;32m     18\u001b[0m \u001b[0mweights\u001b[0m \u001b[0;34m=\u001b[0m \u001b[0magent\u001b[0m\u001b[0;34m.\u001b[0m\u001b[0mneural_network\u001b[0m\u001b[0;34m.\u001b[0m\u001b[0mweights\u001b[0m\u001b[0;34m\u001b[0m\u001b[0;34m\u001b[0m\u001b[0m\n",
      "\u001b[0;32m<ipython-input-44-6604f78138ef>\u001b[0m in \u001b[0;36mexecute\u001b[0;34m(pop_size, generations, threshold, network)\u001b[0m\n\u001b[1;32m    115\u001b[0m             \u001b[0mprint\u001b[0m\u001b[0;34m(\u001b[0m\u001b[0;34m'Generation'\u001b[0m\u001b[0;34m,\u001b[0m\u001b[0mstr\u001b[0m\u001b[0;34m(\u001b[0m\u001b[0mi\u001b[0m\u001b[0;34m)\u001b[0m\u001b[0;34m,\u001b[0m\u001b[0;34m':'\u001b[0m\u001b[0;34m)\u001b[0m\u001b[0;34m\u001b[0m\u001b[0;34m\u001b[0m\u001b[0m\n\u001b[1;32m    116\u001b[0m             \u001b[0magents\u001b[0m \u001b[0;34m=\u001b[0m \u001b[0mgenerate_agents\u001b[0m\u001b[0;34m(\u001b[0m\u001b[0mpop_size\u001b[0m\u001b[0;34m,\u001b[0m\u001b[0mnetwork\u001b[0m\u001b[0;34m)\u001b[0m\u001b[0;34m\u001b[0m\u001b[0;34m\u001b[0m\u001b[0m\n\u001b[0;32m--> 117\u001b[0;31m             \u001b[0magents\u001b[0m \u001b[0;34m=\u001b[0m \u001b[0mfitness\u001b[0m\u001b[0;34m(\u001b[0m\u001b[0magents\u001b[0m\u001b[0;34m)\u001b[0m\u001b[0;34m\u001b[0m\u001b[0;34m\u001b[0m\u001b[0m\n\u001b[0m\u001b[1;32m    118\u001b[0m             \u001b[0magents\u001b[0m \u001b[0;34m=\u001b[0m \u001b[0mselection\u001b[0m\u001b[0;34m(\u001b[0m\u001b[0magents\u001b[0m\u001b[0;34m)\u001b[0m\u001b[0;34m\u001b[0m\u001b[0;34m\u001b[0m\u001b[0m\n\u001b[1;32m    119\u001b[0m             \u001b[0magents\u001b[0m \u001b[0;34m=\u001b[0m \u001b[0mcrossover\u001b[0m\u001b[0;34m(\u001b[0m\u001b[0magents\u001b[0m\u001b[0;34m,\u001b[0m\u001b[0mnetwork\u001b[0m\u001b[0;34m,\u001b[0m\u001b[0mpop_size\u001b[0m\u001b[0;34m)\u001b[0m\u001b[0;34m\u001b[0m\u001b[0;34m\u001b[0m\u001b[0m\n",
      "\u001b[0;32m<ipython-input-44-6604f78138ef>\u001b[0m in \u001b[0;36mfitness\u001b[0;34m(agents)\u001b[0m\n\u001b[1;32m     46\u001b[0m                 \u001b[0my\u001b[0m \u001b[0;34m=\u001b[0m \u001b[0;34m[\u001b[0m\u001b[0;34m]\u001b[0m\u001b[0;34m\u001b[0m\u001b[0;34m\u001b[0m\u001b[0m\n\u001b[1;32m     47\u001b[0m                 \u001b[0;32mfor\u001b[0m \u001b[0mi\u001b[0m \u001b[0;32min\u001b[0m \u001b[0mrange\u001b[0m\u001b[0;34m(\u001b[0m\u001b[0mdataset_len\u001b[0m\u001b[0;34m//\u001b[0m\u001b[0;36m2\u001b[0m\u001b[0;34m)\u001b[0m\u001b[0;34m:\u001b[0m\u001b[0;34m\u001b[0m\u001b[0;34m\u001b[0m\u001b[0m\n\u001b[0;32m---> 48\u001b[0;31m                     \u001b[0mfake\u001b[0m\u001b[0;34m.\u001b[0m\u001b[0mappend\u001b[0m\u001b[0;34m(\u001b[0m\u001b[0magent\u001b[0m\u001b[0;34m.\u001b[0m\u001b[0mneural_network\u001b[0m\u001b[0;34m.\u001b[0m\u001b[0mpropagate\u001b[0m\u001b[0;34m(\u001b[0m\u001b[0mnp\u001b[0m\u001b[0;34m.\u001b[0m\u001b[0mrandom\u001b[0m\u001b[0;34m.\u001b[0m\u001b[0mrandn\u001b[0m\u001b[0;34m(\u001b[0m\u001b[0mlatent_size\u001b[0m\u001b[0;34m)\u001b[0m\u001b[0;34m)\u001b[0m\u001b[0;34m.\u001b[0m\u001b[0mreshape\u001b[0m\u001b[0;34m(\u001b[0m\u001b[0;36m28\u001b[0m\u001b[0;34m,\u001b[0m\u001b[0;36m28\u001b[0m\u001b[0;34m)\u001b[0m\u001b[0;34m)\u001b[0m\u001b[0;34m\u001b[0m\u001b[0;34m\u001b[0m\u001b[0m\n\u001b[0m\u001b[1;32m     49\u001b[0m                     \u001b[0my\u001b[0m\u001b[0;34m.\u001b[0m\u001b[0mappend\u001b[0m\u001b[0;34m(\u001b[0m\u001b[0;36m0\u001b[0m\u001b[0;34m)\u001b[0m\u001b[0;34m\u001b[0m\u001b[0;34m\u001b[0m\u001b[0m\n\u001b[1;32m     50\u001b[0m                     \u001b[0mreal\u001b[0m\u001b[0;34m.\u001b[0m\u001b[0mappend\u001b[0m\u001b[0;34m(\u001b[0m\u001b[0mrandom\u001b[0m\u001b[0;34m.\u001b[0m\u001b[0mchoice\u001b[0m\u001b[0;34m(\u001b[0m\u001b[0mtrainX\u001b[0m\u001b[0;34m)\u001b[0m\u001b[0;34m)\u001b[0m\u001b[0;34m\u001b[0m\u001b[0;34m\u001b[0m\u001b[0m\n",
      "\u001b[0;32m<ipython-input-44-6604f78138ef>\u001b[0m in \u001b[0;36mpropagate\u001b[0;34m(self, data)\u001b[0m\n\u001b[1;32m     25\u001b[0m                         \u001b[0minput_data\u001b[0m \u001b[0;34m=\u001b[0m \u001b[0mdata\u001b[0m\u001b[0;34m\u001b[0m\u001b[0;34m\u001b[0m\u001b[0m\n\u001b[1;32m     26\u001b[0m                         \u001b[0;32mfor\u001b[0m \u001b[0mi\u001b[0m \u001b[0;32min\u001b[0m \u001b[0mrange\u001b[0m\u001b[0;34m(\u001b[0m\u001b[0mlen\u001b[0m\u001b[0;34m(\u001b[0m\u001b[0mself\u001b[0m\u001b[0;34m.\u001b[0m\u001b[0mweights\u001b[0m\u001b[0;34m)\u001b[0m\u001b[0;34m)\u001b[0m\u001b[0;34m:\u001b[0m\u001b[0;34m\u001b[0m\u001b[0;34m\u001b[0m\u001b[0m\n\u001b[0;32m---> 27\u001b[0;31m                             \u001b[0mz\u001b[0m \u001b[0;34m=\u001b[0m \u001b[0mnp\u001b[0m\u001b[0;34m.\u001b[0m\u001b[0mdot\u001b[0m\u001b[0;34m(\u001b[0m\u001b[0minput_data\u001b[0m\u001b[0;34m,\u001b[0m\u001b[0mself\u001b[0m\u001b[0;34m.\u001b[0m\u001b[0mweights\u001b[0m\u001b[0;34m[\u001b[0m\u001b[0mi\u001b[0m\u001b[0;34m]\u001b[0m\u001b[0;34m)\u001b[0m\u001b[0;34m\u001b[0m\u001b[0;34m\u001b[0m\u001b[0m\n\u001b[0m\u001b[1;32m     28\u001b[0m                             \u001b[0ma\u001b[0m \u001b[0;34m=\u001b[0m \u001b[0mself\u001b[0m\u001b[0;34m.\u001b[0m\u001b[0mactivations\u001b[0m\u001b[0;34m[\u001b[0m\u001b[0mi\u001b[0m\u001b[0;34m]\u001b[0m\u001b[0;34m(\u001b[0m\u001b[0mz\u001b[0m\u001b[0;34m)\u001b[0m\u001b[0;34m\u001b[0m\u001b[0;34m\u001b[0m\u001b[0m\n\u001b[1;32m     29\u001b[0m                             \u001b[0minput_data\u001b[0m \u001b[0;34m=\u001b[0m \u001b[0ma\u001b[0m\u001b[0;34m\u001b[0m\u001b[0;34m\u001b[0m\u001b[0m\n",
      "\u001b[0;32m<__array_function__ internals>\u001b[0m in \u001b[0;36mdot\u001b[0;34m(*args, **kwargs)\u001b[0m\n",
      "\u001b[0;31mTypeError\u001b[0m: __array__() takes 1 positional argument but 2 were given"
     ]
    }
   ],
   "source": [
    "image_size = 28\n",
    "latent_size = 100\n",
    "model = Sequential()\n",
    "model.add(Conv2D(64, (3,3), strides=(2, 2), padding='same', input_shape=(image_size,image_size,1)))\n",
    "model.add(LeakyReLU(alpha=0.2))\n",
    "model.add(Dropout(0.4))\n",
    "model.add(Conv2D(64, (3,3), strides=(2, 2), padding='same'))\n",
    "model.add(LeakyReLU(alpha=0.2))\n",
    "model.add(Dropout(0.4))\n",
    "model.add(Flatten())\n",
    "model.add(Dense(1, activation='sigmoid'))\n",
    "opt = Adam(lr=0.0002, beta_1=0.5)\n",
    "model.compile(loss='binary_crossentropy', optimizer=opt, metrics=['accuracy'])\n",
    "network = [[latent_size,100,activations.sigmoid],[None,image_size**2,activations.sigmoid]]\n",
    "ga = genetic_algorithm\n",
    "agent = ga.execute(1000,1000,90,network)\n",
    "(trainX, trainy), (testX, testy) = load_data()\n",
    "weights = agent.neural_network.weights"
   ]
  },
  {
   "cell_type": "code",
   "execution_count": null,
   "metadata": {},
   "outputs": [],
   "source": []
  }
 ],
 "metadata": {
  "kernelspec": {
   "display_name": "Python 3",
   "language": "python",
   "name": "python3"
  },
  "language_info": {
   "codemirror_mode": {
    "name": "ipython",
    "version": 3
   },
   "file_extension": ".py",
   "mimetype": "text/x-python",
   "name": "python",
   "nbconvert_exporter": "python",
   "pygments_lexer": "ipython3",
   "version": "3.7.6"
  },
  "latex_envs": {
   "LaTeX_envs_menu_present": true,
   "autoclose": true,
   "autocomplete": true,
   "bibliofile": "biblio.bib",
   "cite_by": "apalike",
   "current_citInitial": 1,
   "eqLabelWithNumbers": true,
   "eqNumInitial": 1,
   "hotkeys": {
    "equation": "Ctrl-E",
    "itemize": "Ctrl-I"
   },
   "labels_anchors": false,
   "latex_user_defs": false,
   "report_style_numbering": false,
   "user_envs_cfg": false
  },
  "toc": {
   "base_numbering": 1,
   "nav_menu": {},
   "number_sections": true,
   "sideBar": true,
   "skip_h1_title": true,
   "title_cell": "Table of Contents",
   "title_sidebar": "Contents",
   "toc_cell": true,
   "toc_position": {},
   "toc_section_display": true,
   "toc_window_display": false
  },
  "varInspector": {
   "cols": {
    "lenName": 16,
    "lenType": 16,
    "lenVar": 40
   },
   "kernels_config": {
    "python": {
     "delete_cmd_postfix": "",
     "delete_cmd_prefix": "del ",
     "library": "var_list.py",
     "varRefreshCmd": "print(var_dic_list())"
    },
    "r": {
     "delete_cmd_postfix": ") ",
     "delete_cmd_prefix": "rm(",
     "library": "var_list.r",
     "varRefreshCmd": "cat(var_dic_list()) "
    }
   },
   "types_to_exclude": [
    "module",
    "function",
    "builtin_function_or_method",
    "instance",
    "_Feature"
   ],
   "window_display": false
  }
 },
 "nbformat": 4,
 "nbformat_minor": 4
}
